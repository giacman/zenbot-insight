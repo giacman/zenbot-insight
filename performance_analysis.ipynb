{
  "cells": [
    {
      "cell_type": "code",
      "source": [
        "import pandas as pd\n",
        "import glob\n",
        "import re"
      ],
      "outputs": [],
      "execution_count": 1,
      "metadata": {
        "collapsed": false,
        "outputHidden": false,
        "inputHidden": false
      }
    },
    {
      "cell_type": "code",
      "source": [
        "# Load csv files with daily simulations\n",
        "list_simulations_files = glob.glob('daily_simulaions_results/*.csv')\n",
        "\n",
        "all_simulations = list()\n",
        "\n",
        "for s in list_simulations_files:\n",
        "    daily_simulation = pd.read_csv(s)\n",
        "    daily_simulation = daily_simulation.drop(daily_simulation.columns[0], axis=1)\n",
        "    m = re.search('daily_simulaions_results/simulations_results_(.+?)_', s)\n",
        "    if m:\n",
        "        day = m.group(1)\n",
        "        daily_simulation['day'] = day\n",
        "        daily_simulation['day'] = pd.to_datetime(daily_simulation['day'], format = '%Y%m%d')\n",
        "    \n",
        "    all_simulations.append(daily_simulation)\n",
        "    \n",
        "df_simulations = pd.concat(all_simulations)\n",
        "\nprint(df_simulations.head())"
      ],
      "outputs": [
        {
          "output_type": "stream",
          "name": "stdout",
          "text": [
            "   vs_buy_hold        strategy      selector        day\n",
            "0     4.753427             sar  gdax.ETH-EUR 2018-04-28\n",
            "1     3.887942  crossover_vwap  gdax.ETH-EUR 2018-04-28\n",
            "2     3.887942       wavetrend  gdax.ETH-EUR 2018-04-28\n",
            "3     3.887942         ta_macd  gdax.ETH-EUR 2018-04-28\n",
            "4     3.887942            noop  gdax.ETH-EUR 2018-04-28\n",
            "<class 'pandas._libs.tslib.Timestamp'>\n"
          ]
        }
      ],
      "execution_count": 14,
      "metadata": {
        "collapsed": false,
        "outputHidden": false,
        "inputHidden": false
      }
    },
    {
      "cell_type": "code",
      "source": [
        "# Calculate daily winner "
      ],
      "outputs": [],
      "execution_count": 11,
      "metadata": {
        "collapsed": false,
        "outputHidden": false,
        "inputHidden": false
      }
    },
    {
      "cell_type": "code",
      "source": [],
      "outputs": [],
      "execution_count": null,
      "metadata": {
        "collapsed": false,
        "outputHidden": false,
        "inputHidden": false
      }
    }
  ],
  "metadata": {
    "kernel_info": {
      "name": "python3"
    },
    "language_info": {
      "file_extension": ".py",
      "version": "3.5.4",
      "codemirror_mode": {
        "version": 3,
        "name": "ipython"
      },
      "name": "python",
      "mimetype": "text/x-python",
      "nbconvert_exporter": "python",
      "pygments_lexer": "ipython3"
    },
    "kernelspec": {
      "name": "python3",
      "language": "python",
      "display_name": "Python 3"
    },
    "nteract": {
      "version": "0.11.4"
    }
  },
  "nbformat": 4,
  "nbformat_minor": 4
}